{
 "cells": [
  {
   "cell_type": "code",
   "execution_count": 1,
   "metadata": {},
   "outputs": [],
   "source": [
    "%matplotlib inline"
   ]
  },
  {
   "cell_type": "markdown",
   "metadata": {},
   "source": [
    "# Initial imports\n",
    "\n",
    "This isn't super important right now, I'm just trying to get things set up to make life easier"
   ]
  },
  {
   "cell_type": "code",
   "execution_count": 2,
   "metadata": {},
   "outputs": [],
   "source": [
    "import pandas as pd"
   ]
  },
  {
   "cell_type": "markdown",
   "metadata": {},
   "source": [
    "# This code reads in the data files that we care about using a python package called `pandas`\n",
    "\n",
    "Pandas is how python \"does\" spreadsheets. But like everything, it can be complicated to work with `dataframe` objects which are the special objects that `pandas` uses to work its magic. So for now we'll just read in the data and quickly convert it to lists to simplify the problem a little"
   ]
  },
  {
   "cell_type": "code",
   "execution_count": 6,
   "metadata": {},
   "outputs": [
    {
     "data": {
      "text/html": [
       "<div>\n",
       "<style scoped>\n",
       "    .dataframe tbody tr th:only-of-type {\n",
       "        vertical-align: middle;\n",
       "    }\n",
       "\n",
       "    .dataframe tbody tr th {\n",
       "        vertical-align: top;\n",
       "    }\n",
       "\n",
       "    .dataframe thead th {\n",
       "        text-align: right;\n",
       "    }\n",
       "</style>\n",
       "<table border=\"1\" class=\"dataframe\">\n",
       "  <thead>\n",
       "    <tr style=\"text-align: right;\">\n",
       "      <th></th>\n",
       "      <th>Start</th>\n",
       "      <th>Stop</th>\n",
       "      <th>Strand</th>\n",
       "    </tr>\n",
       "  </thead>\n",
       "  <tbody>\n",
       "    <tr>\n",
       "      <th>0</th>\n",
       "      <td>924</td>\n",
       "      <td>1278</td>\n",
       "      <td>+</td>\n",
       "    </tr>\n",
       "    <tr>\n",
       "      <th>1</th>\n",
       "      <td>1277</td>\n",
       "      <td>1433</td>\n",
       "      <td>+</td>\n",
       "    </tr>\n",
       "    <tr>\n",
       "      <th>2</th>\n",
       "      <td>1495</td>\n",
       "      <td>1639</td>\n",
       "      <td>+</td>\n",
       "    </tr>\n",
       "    <tr>\n",
       "      <th>3</th>\n",
       "      <td>1635</td>\n",
       "      <td>1972</td>\n",
       "      <td>+</td>\n",
       "    </tr>\n",
       "    <tr>\n",
       "      <th>4</th>\n",
       "      <td>1635</td>\n",
       "      <td>1797</td>\n",
       "      <td>+</td>\n",
       "    </tr>\n",
       "  </tbody>\n",
       "</table>\n",
       "</div>"
      ],
      "text/plain": [
       "   Start  Stop Strand\n",
       "0    924  1278      +\n",
       "1   1277  1433      +\n",
       "2   1495  1639      +\n",
       "3   1635  1972      +\n",
       "4   1635  1797      +"
      ]
     },
     "execution_count": 6,
     "metadata": {},
     "output_type": "execute_result"
    }
   ],
   "source": [
    "phage_name = 't7'\n",
    "actual_gene_file = '../Data/benchmark_viruses/{}.actual.tsv'.format(phage_name)\n",
    "actual_df = pd.read_csv(actual_gene_file, sep='\\t', index_col=0)\n",
    "actual_df.head()"
   ]
  },
  {
   "cell_type": "code",
   "execution_count": 7,
   "metadata": {},
   "outputs": [
    {
     "data": {
      "text/html": [
       "<div>\n",
       "<style scoped>\n",
       "    .dataframe tbody tr th:only-of-type {\n",
       "        vertical-align: middle;\n",
       "    }\n",
       "\n",
       "    .dataframe tbody tr th {\n",
       "        vertical-align: top;\n",
       "    }\n",
       "\n",
       "    .dataframe thead th {\n",
       "        text-align: right;\n",
       "    }\n",
       "</style>\n",
       "<table border=\"1\" class=\"dataframe\">\n",
       "  <thead>\n",
       "    <tr style=\"text-align: right;\">\n",
       "      <th></th>\n",
       "      <th>Start</th>\n",
       "      <th>Stop</th>\n",
       "      <th>Strand</th>\n",
       "    </tr>\n",
       "  </thead>\n",
       "  <tbody>\n",
       "    <tr>\n",
       "      <th>0</th>\n",
       "      <td>925</td>\n",
       "      <td>1278</td>\n",
       "      <td>+</td>\n",
       "    </tr>\n",
       "    <tr>\n",
       "      <th>1</th>\n",
       "      <td>1278</td>\n",
       "      <td>1433</td>\n",
       "      <td>+</td>\n",
       "    </tr>\n",
       "    <tr>\n",
       "      <th>2</th>\n",
       "      <td>1496</td>\n",
       "      <td>1639</td>\n",
       "      <td>+</td>\n",
       "    </tr>\n",
       "    <tr>\n",
       "      <th>3</th>\n",
       "      <td>2021</td>\n",
       "      <td>3100</td>\n",
       "      <td>+</td>\n",
       "    </tr>\n",
       "    <tr>\n",
       "      <th>4</th>\n",
       "      <td>3171</td>\n",
       "      <td>5822</td>\n",
       "      <td>+</td>\n",
       "    </tr>\n",
       "  </tbody>\n",
       "</table>\n",
       "</div>"
      ],
      "text/plain": [
       "   Start  Stop Strand\n",
       "0    925  1278      +\n",
       "1   1278  1433      +\n",
       "2   1496  1639      +\n",
       "3   2021  3100      +\n",
       "4   3171  5822      +"
      ]
     },
     "execution_count": 7,
     "metadata": {},
     "output_type": "execute_result"
    }
   ],
   "source": [
    "predicted_gene_file = '../Data/benchmark_viruses/{}.prodigal.tsv'.format(phage_name)\n",
    "predicted_df = pd.read_csv(predicted_gene_file, sep='\\t', index_col=0)\n",
    "predicted_df.head()"
   ]
  },
  {
   "cell_type": "markdown",
   "metadata": {},
   "source": [
    "One day we might be able to delete some of this stuff, because it's really \"incorrect\" to do this. Or rather, \"inefficient\" would be a better word. But for now I think it'll make concepts easier to grasp so I'm going to create `list` objects for you."
   ]
  },
  {
   "cell_type": "code",
   "execution_count": 8,
   "metadata": {},
   "outputs": [],
   "source": [
    "actual_starts = list(actual_df['Start'])\n",
    "actual_stops = list(actual_df['Stop'])\n",
    "actual_strands = list(actual_df['Strand'])"
   ]
  },
  {
   "cell_type": "code",
   "execution_count": 9,
   "metadata": {},
   "outputs": [],
   "source": [
    "predicted_starts = list(predicted_df['Start'])\n",
    "predicted_stops = list(predicted_df['Stop'])\n",
    "predicted_strands = list(predicted_df['Strand'])"
   ]
  },
  {
   "cell_type": "code",
   "execution_count": null,
   "metadata": {},
   "outputs": [],
   "source": []
  },
  {
   "cell_type": "markdown",
   "metadata": {},
   "source": [
    "# And now the task / challenge / work...\n",
    "\n",
    "So if you run all the cells above **this point** you should have a few lists read into memory and your task is to ask how well the predicted lists match the actual lists.\n",
    "\n",
    "As a starting point let's answer a few specific questions:\n",
    "1. What percent of predicted stops are in actual stops?\n",
    "    - There are 2 steps/components to this! We need to know how many predicted stops we have (denominator) and how many of those are in the `actual_stops` list (numerator)\n",
    "\n",
    "\n",
    "2. What percent of actual stops are in predicted stops?\n",
    "\n",
    "3. What percent of predicted starts are in actual starts?\n",
    "\n",
    "4. What percent of actual starts are in predicted starts?\n",
    "\n",
    "\n",
    "**Hints:**\n",
    "\n",
    "- Once you've solved one of these questions, you should be able to copy and paste your code, make *very* minor changes, and answer all the questions. \n",
    "\n",
    "- Also, if your code to answer any single one of the questions is more than 5 lines, you're doing something wrong. But don't let that stop you, if you can solve it with 10 lines of code well then we can look at how to cut it down and make it better."
   ]
  },
  {
   "cell_type": "code",
   "execution_count": null,
   "metadata": {},
   "outputs": [],
   "source": []
  }
 ],
 "metadata": {
  "kernelspec": {
   "display_name": "Python 3",
   "language": "python",
   "name": "python3"
  },
  "language_info": {
   "codemirror_mode": {
    "name": "ipython",
    "version": 3
   },
   "file_extension": ".py",
   "mimetype": "text/x-python",
   "name": "python",
   "nbconvert_exporter": "python",
   "pygments_lexer": "ipython3",
   "version": "3.7.3"
  }
 },
 "nbformat": 4,
 "nbformat_minor": 2
}
